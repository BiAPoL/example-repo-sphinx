{
 "cells": [
  {
   "cell_type": "markdown",
   "id": "845d4301",
   "metadata": {},
   "source": [
    "This is en example notebook to demonstrate a very good package."
   ]
  },
  {
   "cell_type": "code",
   "execution_count": 1,
   "id": "5d27dca9",
   "metadata": {},
   "outputs": [],
   "source": [
    "from verygoodpackage import subpackage_a"
   ]
  },
  {
   "cell_type": "code",
   "execution_count": 3,
   "id": "3103a57e",
   "metadata": {},
   "outputs": [],
   "source": [
    "a = 1\n",
    "b = 1\n",
    "c = subpackage_a.add(a, b)\n",
    "d = subpackage_a.subtract(a, b)"
   ]
  },
  {
   "cell_type": "markdown",
   "id": "a44e85b5",
   "metadata": {},
   "source": [
    "Now, we print the results"
   ]
  },
  {
   "cell_type": "code",
   "execution_count": 4,
   "id": "c25c5147",
   "metadata": {},
   "outputs": [
    {
     "name": "stdout",
     "output_type": "stream",
     "text": [
      "2\n",
      "0\n"
     ]
    }
   ],
   "source": [
    "print(c)\n",
    "print(d)"
   ]
  },
  {
   "cell_type": "markdown",
   "id": "8824fc42",
   "metadata": {},
   "source": [
    "As you can see, this works very well."
   ]
  },
  {
   "cell_type": "code",
   "execution_count": null,
   "id": "d4c8f886",
   "metadata": {},
   "outputs": [],
   "source": []
  }
 ],
 "metadata": {
  "kernelspec": {
   "display_name": "Python 3 (ipykernel)",
   "language": "python",
   "name": "python3"
  },
  "language_info": {
   "codemirror_mode": {
    "name": "ipython",
    "version": 3
   },
   "file_extension": ".py",
   "mimetype": "text/x-python",
   "name": "python",
   "nbconvert_exporter": "python",
   "pygments_lexer": "ipython3",
   "version": "3.9.7"
  }
 },
 "nbformat": 4,
 "nbformat_minor": 5
}
